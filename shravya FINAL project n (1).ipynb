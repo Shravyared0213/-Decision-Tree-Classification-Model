{
 "cells": [
  {
   "cell_type": "code",
   "execution_count": 12,
   "id": "a9b1d6d7",
   "metadata": {},
   "outputs": [
    {
     "name": "stdout",
     "output_type": "stream",
     "text": [
      "Columns in customer_data DataFrame: Index(['#', 'gender', 'married', 'age', 'service', 'contract', 'billing',\n",
      "       'due'],\n",
      "      dtype='object')\n",
      "Columns in status_data DataFrame: Index(['#,churn'], dtype='object')\n"
     ]
    }
   ],
   "source": [
    "#Divide the data used in this chapter between training and test subsets\n",
    "print(\"Columns in customer_data DataFrame:\", customer_data.columns)\n",
    "print(\"Columns in status_data DataFrame:\", status_data.columns)\n"
   ]
  },
  {
   "cell_type": "code",
   "execution_count": 15,
   "id": "df636ac1",
   "metadata": {},
   "outputs": [
    {
     "name": "stdout",
     "output_type": "stream",
     "text": [
      "Accuracy of the Decision Tree model on the test data: 55.70%\n",
      "Max Depth: Unlimited, Accuracy: 55.70%\n",
      "Max Depth: 5, Accuracy: 65.35%\n",
      "Max Depth: 10, Accuracy: 63.15%\n",
      "Max Depth: 15, Accuracy: 58.70%\n",
      "Max Depth: 20, Accuracy: 57.30%\n"
     ]
    }
   ],
   "source": [
    "import pandas as pd\n",
    "from sklearn.model_selection import train_test_split\n",
    "from sklearn.tree import DecisionTreeClassifier\n",
    "from sklearn.metrics import accuracy_score\n",
    "\n",
    "## Load your data into a DataFrame\n",
    "customer_data = pd.read_csv(\"customers(1).csv\", delimiter=\",\")\n",
    "status_data = pd.read_csv(\"status(1).csv\", delimiter=\"\\t\")\n",
    "\n",
    "# Assuming 'churn' is the target variable and the rest are features\n",
    "status_data['churn'] = status_data['#,churn'].str.split(',').str[1].astype(int)\n",
    "data = pd.merge(customer_data, status_data, left_index=True, right_index=True)\n",
    "data = pd.get_dummies(data, columns=[\"gender\", \"married\", \"service\", \"contract\", \"billing\", \"due\"])\n",
    "X = data.drop(columns=[\"#,churn\", \"churn\"])  # Drop the \"#,churn\" column and the \"churn\" column\n",
    "y = data[\"churn\"]\n",
    "\n",
    "#Divide the data into training and test subsets\n",
    "X_train, X_test, y_train, y_test = train_test_split(X, y, test_size=0.2, random_state=42)\n",
    "decision_tree_model = DecisionTreeClassifier(random_state=42)\n",
    "decision_tree_model.fit(X_train, y_train)\n",
    "y_pred = decision_tree_model.predict(X_test)\n",
    "accuracy = accuracy_score(y_test, y_pred)\n",
    "\n",
    "# Evaluate the model's accuracy on the test subset\n",
    "print(\"The Decision Tree model's accuracy with the test data: {:.2f}%\".format(accuracy * 100))\n",
    "max_depths = [None, 5, 10, 15, 20]  \n",
    "for depth in max_depths:\n",
    "    model = DecisionTreeClassifier(max_depth=depth, random_state=42)\n",
    "    model.fit(X_train, y_train)\n",
    "    y_pred = model.predict(X_test)\n",
    "    accuracy = accuracy_score(y_test, y_pred)\n",
    "    print(\"Max Depth: {}, Accuracy: {:.2f}%\".format(depth if depth is not None else \"Unlimited\", accuracy * 100))\n"
   ]
  },
  {
   "cell_type": "code",
   "execution_count": null,
   "id": "5ba7b8c7",
   "metadata": {},
   "outputs": [],
   "source": []
  }
 ],
 "metadata": {
  "kernelspec": {
   "display_name": "Python 3 (ipykernel)",
   "language": "python",
   "name": "python3"
  },
  "language_info": {
   "codemirror_mode": {
    "name": "ipython",
    "version": 3
   },
   "file_extension": ".py",
   "mimetype": "text/x-python",
   "name": "python",
   "nbconvert_exporter": "python",
   "pygments_lexer": "ipython3",
   "version": "3.10.9"
  }
 },
 "nbformat": 4,
 "nbformat_minor": 5
}
